{
 "cells": [
  {
   "cell_type": "code",
   "execution_count": 1,
   "id": "291b47ef",
   "metadata": {},
   "outputs": [],
   "source": [
    "from PIL import Image\n",
    "from ipywidgets import interact"
   ]
  },
  {
   "cell_type": "code",
   "execution_count": 13,
   "id": "f12160c2",
   "metadata": {},
   "outputs": [],
   "source": [
    "# SD"
   ]
  },
  {
   "cell_type": "code",
   "execution_count": 12,
   "id": "505592a8",
   "metadata": {},
   "outputs": [],
   "source": [
    "image1 = Image.open(\"./Img1.jpg\").convert(\"RGBA\")\n",
    "image2 = Image.open(\"./Img2.jpg\").convert(\"RGBA\")"
   ]
  },
  {
   "cell_type": "code",
   "execution_count": 13,
   "id": "2dd053b1",
   "metadata": {},
   "outputs": [
    {
     "data": {
      "application/vnd.jupyter.widget-view+json": {
       "model_id": "367f8f0656a5416da8bc8284e393be05",
       "version_major": 2,
       "version_minor": 0
      },
      "text/plain": [
       "interactive(children=(FloatSlider(value=0.0, description='x', max=1.0), Output()), _dom_classes=('widget-inter…"
      ]
     },
     "metadata": {},
     "output_type": "display_data"
    }
   ],
   "source": [
    "@interact(x=(0, 1, .1))\n",
    "def transparenca(x):\n",
    "    alphaBlended = Image.blend(image1, image2, alpha=x)\n",
    "    display(alphaBlended)"
   ]
  },
  {
   "cell_type": "code",
   "execution_count": 12,
   "id": "afbfc751",
   "metadata": {},
   "outputs": [],
   "source": [
    "#Taiep"
   ]
  },
  {
   "cell_type": "code",
   "execution_count": 14,
   "id": "19be743a",
   "metadata": {},
   "outputs": [],
   "source": [
    "image3 = Image.open(\"./Img3.jpg\").convert(\"RGBA\")\n",
    "image4 = Image.open(\"./Img4.jpg\").convert(\"RGBA\")"
   ]
  },
  {
   "cell_type": "code",
   "execution_count": 15,
   "id": "42b484a7",
   "metadata": {},
   "outputs": [
    {
     "data": {
      "application/vnd.jupyter.widget-view+json": {
       "model_id": "013bf5bc15a2464b8293c2f418bf25ba",
       "version_major": 2,
       "version_minor": 0
      },
      "text/plain": [
       "interactive(children=(FloatSlider(value=0.0, description='x', max=1.0), Output()), _dom_classes=('widget-inter…"
      ]
     },
     "metadata": {},
     "output_type": "display_data"
    }
   ],
   "source": [
    "@interact(x=(0, 1, .1))\n",
    "def transparenca(x):\n",
    "    alphaBlended = Image.blend(image3, image4, alpha=x)\n",
    "    display(alphaBlended)"
   ]
  },
  {
   "cell_type": "code",
   "execution_count": null,
   "id": "7769d4a1",
   "metadata": {},
   "outputs": [],
   "source": [
    "#Ventriculo Taiep"
   ]
  },
  {
   "cell_type": "code",
   "execution_count": 9,
   "id": "3995e662",
   "metadata": {},
   "outputs": [],
   "source": [
    "image5 = Image.open(\"./Img5.jpg\").convert(\"RGBA\")\n",
    "image6 = Image.open(\"./Img6.jpg\").convert(\"RGBA\")"
   ]
  },
  {
   "cell_type": "code",
   "execution_count": 11,
   "id": "141abef0",
   "metadata": {},
   "outputs": [
    {
     "data": {
      "application/vnd.jupyter.widget-view+json": {
       "model_id": "3c8ee7b7745a4d808c8df37f0c0e35ae",
       "version_major": 2,
       "version_minor": 0
      },
      "text/plain": [
       "interactive(children=(FloatSlider(value=0.0, description='x', max=1.0), Output()), _dom_classes=('widget-inter…"
      ]
     },
     "metadata": {},
     "output_type": "display_data"
    }
   ],
   "source": [
    "@interact(x=(0, 1, .1))\n",
    "def transparenca(x):\n",
    "    alphaBlended = Image.blend(image6, image5, alpha=x)\n",
    "    display(alphaBlended)"
   ]
  }
 ],
 "metadata": {
  "kernelspec": {
   "display_name": "Python 3",
   "language": "python",
   "name": "python3"
  },
  "language_info": {
   "codemirror_mode": {
    "name": "ipython",
    "version": 3
   },
   "file_extension": ".py",
   "mimetype": "text/x-python",
   "name": "python",
   "nbconvert_exporter": "python",
   "pygments_lexer": "ipython3",
   "version": "3.8.8"
  }
 },
 "nbformat": 4,
 "nbformat_minor": 5
}
