{
 "cells": [
  {
   "cell_type": "code",
   "execution_count": 1,
   "id": "291b47ef",
   "metadata": {},
   "outputs": [],
   "source": [
    "from PIL import Image\n",
    "from ipywidgets import interact"
   ]
  },
  {
   "cell_type": "markdown",
   "id": "65756fa7",
   "metadata": {},
   "source": [
    "# SD"
   ]
  },
  {
   "cell_type": "code",
   "execution_count": 2,
   "id": "505592a8",
   "metadata": {},
   "outputs": [],
   "source": [
    "image1 = Image.open(\"./Img1.jpg\").convert(\"RGBA\")\n",
    "image2 = Image.open(\"./Img2.jpg\").convert(\"RGBA\")"
   ]
  },
  {
   "cell_type": "code",
   "execution_count": 3,
   "id": "2dd053b1",
   "metadata": {},
   "outputs": [
    {
     "data": {
      "application/vnd.jupyter.widget-view+json": {
       "model_id": "d2fb2479a2e14fb1aad9e98015336f44",
       "version_major": 2,
       "version_minor": 0
      },
      "text/plain": [
       "interactive(children=(FloatSlider(value=0.0, description='x', max=1.0), Output()), _dom_classes=('widget-inter…"
      ]
     },
     "metadata": {},
     "output_type": "display_data"
    }
   ],
   "source": [
    "@interact(x=(0, 1, .1))\n",
    "def transparenca(x):\n",
    "    alphaBlended = Image.blend(image1, image2, alpha=x)\n",
    "    display(alphaBlended)"
   ]
  },
  {
   "cell_type": "markdown",
   "id": "d928be37",
   "metadata": {},
   "source": [
    "# Taiep"
   ]
  },
  {
   "cell_type": "code",
   "execution_count": 4,
   "id": "19be743a",
   "metadata": {},
   "outputs": [],
   "source": [
    "image3 = Image.open(\"./Img3.jpg\").convert(\"RGBA\")\n",
    "image4 = Image.open(\"./Img4.jpg\").convert(\"RGBA\")"
   ]
  },
  {
   "cell_type": "code",
   "execution_count": 5,
   "id": "42b484a7",
   "metadata": {},
   "outputs": [
    {
     "data": {
      "application/vnd.jupyter.widget-view+json": {
       "model_id": "62b9595ee28547f880443a25f4d4dc45",
       "version_major": 2,
       "version_minor": 0
      },
      "text/plain": [
       "interactive(children=(FloatSlider(value=0.0, description='x', max=1.0), Output()), _dom_classes=('widget-inter…"
      ]
     },
     "metadata": {},
     "output_type": "display_data"
    }
   ],
   "source": [
    "@interact(x=(0, 1, .1))\n",
    "def transparenca(x):\n",
    "    alphaBlended = Image.blend(image3, image4, alpha=x)\n",
    "    display(alphaBlended)"
   ]
  },
  {
   "cell_type": "markdown",
   "id": "6564e0ab",
   "metadata": {},
   "source": [
    "# Ventriculo Taiep"
   ]
  },
  {
   "cell_type": "code",
   "execution_count": 6,
   "id": "3995e662",
   "metadata": {},
   "outputs": [],
   "source": [
    "image5 = Image.open(\"./Img5.jpg\").convert(\"RGBA\")\n",
    "image6 = Image.open(\"./Img6.jpg\").convert(\"RGBA\")"
   ]
  },
  {
   "cell_type": "code",
   "execution_count": 7,
   "id": "141abef0",
   "metadata": {},
   "outputs": [
    {
     "data": {
      "application/vnd.jupyter.widget-view+json": {
       "model_id": "b1c9184969904b6ca02ab70101d5bf0f",
       "version_major": 2,
       "version_minor": 0
      },
      "text/plain": [
       "interactive(children=(FloatSlider(value=0.0, description='x', max=1.0), Output()), _dom_classes=('widget-inter…"
      ]
     },
     "metadata": {},
     "output_type": "display_data"
    }
   ],
   "source": [
    "@interact(x=(0, 1, .1))\n",
    "def transparenca(x):\n",
    "    alphaBlended = Image.blend(image6, image5, alpha=x)\n",
    "    display(alphaBlended)"
   ]
  },
  {
   "cell_type": "markdown",
   "id": "c2bde8ef",
   "metadata": {},
   "source": [
    "# Regiones SD1"
   ]
  },
  {
   "cell_type": "code",
   "execution_count": 8,
   "id": "559ff3ae",
   "metadata": {},
   "outputs": [],
   "source": [
    "image7 = Image.open(\"./SD1_gray.jpg\").convert(\"RGBA\")\n",
    "image8 = Image.open(\"./SD1_regions.png\").convert(\"RGBA\")"
   ]
  },
  {
   "cell_type": "code",
   "execution_count": 9,
   "id": "e7a9dfc4",
   "metadata": {},
   "outputs": [
    {
     "data": {
      "application/vnd.jupyter.widget-view+json": {
       "model_id": "43ba746409384d269b8f255c90d616f3",
       "version_major": 2,
       "version_minor": 0
      },
      "text/plain": [
       "interactive(children=(FloatSlider(value=0.0, description='x', max=1.0), Output()), _dom_classes=('widget-inter…"
      ]
     },
     "metadata": {},
     "output_type": "display_data"
    }
   ],
   "source": [
    "@interact(x=(0, 1, .1))\n",
    "def transparenca(x):\n",
    "    alphaBlended = Image.blend(image7, image8, alpha=x)\n",
    "    display(alphaBlended)"
   ]
  },
  {
   "cell_type": "markdown",
   "id": "51f3e923",
   "metadata": {},
   "source": [
    "# Regiones Taiep2"
   ]
  },
  {
   "cell_type": "code",
   "execution_count": 10,
   "id": "b8c04a65",
   "metadata": {},
   "outputs": [],
   "source": [
    "image7 = Image.open(\"./Taiep2_gray.jpg\").convert(\"RGBA\")\n",
    "image8 = Image.open(\"./Taiep2_regions.png\").convert(\"RGBA\")"
   ]
  },
  {
   "cell_type": "code",
   "execution_count": 11,
   "id": "58d95846",
   "metadata": {},
   "outputs": [
    {
     "data": {
      "application/vnd.jupyter.widget-view+json": {
       "model_id": "7d2080bff35d4964853af8cddebc6459",
       "version_major": 2,
       "version_minor": 0
      },
      "text/plain": [
       "interactive(children=(FloatSlider(value=0.0, description='x', max=1.0), Output()), _dom_classes=('widget-inter…"
      ]
     },
     "metadata": {},
     "output_type": "display_data"
    }
   ],
   "source": [
    "@interact(x=(0, 1, .1))\n",
    "def transparenca(x):\n",
    "    alphaBlended = Image.blend(image7, image8, alpha=x)\n",
    "    display(alphaBlended)"
   ]
  },
  {
   "cell_type": "markdown",
   "id": "9cebf368",
   "metadata": {},
   "source": [
    "# Taiep6"
   ]
  },
  {
   "cell_type": "code",
   "execution_count": 12,
   "id": "ef4472b4",
   "metadata": {},
   "outputs": [
    {
     "data": {
      "application/vnd.jupyter.widget-view+json": {
       "model_id": "f308be375a1b4201a7fb29a9104d8fee",
       "version_major": 2,
       "version_minor": 0
      },
      "text/plain": [
       "interactive(children=(FloatSlider(value=0.0, description='x', max=1.0), Output()), _dom_classes=('widget-inter…"
      ]
     },
     "metadata": {},
     "output_type": "display_data"
    }
   ],
   "source": [
    "image9 = Image.open(\"./Taiep6_gray.jpg\").convert(\"RGBA\")\n",
    "image10 = Image.open(\"./Taiep6_regions.png\").convert(\"RGBA\")\n",
    "\n",
    "@interact(x=(0, 1, .1))\n",
    "def transparenca(x):\n",
    "    alphaBlended = Image.blend(image9, image10, alpha=x)\n",
    "    display(alphaBlended)"
   ]
  },
  {
   "cell_type": "markdown",
   "id": "ef18d5d7",
   "metadata": {},
   "source": [
    "# SD2"
   ]
  },
  {
   "cell_type": "code",
   "execution_count": 13,
   "id": "9be0beb9",
   "metadata": {},
   "outputs": [
    {
     "data": {
      "application/vnd.jupyter.widget-view+json": {
       "model_id": "bae6e1608ecc49ab9b35a5245110ef1e",
       "version_major": 2,
       "version_minor": 0
      },
      "text/plain": [
       "interactive(children=(FloatSlider(value=0.0, description='x', max=1.0), Output()), _dom_classes=('widget-inter…"
      ]
     },
     "metadata": {},
     "output_type": "display_data"
    }
   ],
   "source": [
    "image11 = Image.open(\"./SD2_gray.jpg\").convert(\"RGBA\")\n",
    "image12 = Image.open(\"./SD2_regions.png\").convert(\"RGBA\")\n",
    "\n",
    "@interact(x=(0, 1, .1))\n",
    "def transparenca(x):\n",
    "    alphaBlended = Image.blend(image11, image12, alpha=x)\n",
    "    display(alphaBlended)"
   ]
  }
 ],
 "metadata": {
  "kernelspec": {
   "display_name": "Python 3",
   "language": "python",
   "name": "python3"
  },
  "language_info": {
   "codemirror_mode": {
    "name": "ipython",
    "version": 3
   },
   "file_extension": ".py",
   "mimetype": "text/x-python",
   "name": "python",
   "nbconvert_exporter": "python",
   "pygments_lexer": "ipython3",
   "version": "3.8.8"
  }
 },
 "nbformat": 4,
 "nbformat_minor": 5
}
