{
 "cells": [
  {
   "cell_type": "markdown",
   "id": "H2yC_-arQZd7",
   "metadata": {
    "id": "H2yC_-arQZd7"
   },
   "source": [
    "[![Open In Colab](https://colab.research.google.com/assets/colab-badge.svg)](https://colab.research.google.com/drive/1urh2Xh2uwD60saJlpeurPyBoRi6El9E2?usp=sharing)\n",
    "\n",
    "\n"
   ]
  },
  {
   "cell_type": "code",
   "execution_count": null,
   "id": "047d42b8",
   "metadata": {},
   "outputs": [],
   "source": [
    "#import sys\n",
    "#!{sys.executable} -m pip install LIBRERIA"
   ]
  },
  {
   "cell_type": "code",
   "execution_count": 48,
   "id": "6cd7fa29",
   "metadata": {
    "id": "6cd7fa29"
   },
   "outputs": [],
   "source": [
    "import pandas as pd\n",
    "import numpy as np\n",
    "import altair as alt\n",
    "from altair_saver import save"
   ]
  },
  {
   "cell_type": "markdown",
   "id": "10c08ccc",
   "metadata": {},
   "source": [
    "# SD"
   ]
  },
  {
   "cell_type": "code",
   "execution_count": 49,
   "id": "2727e1cc",
   "metadata": {},
   "outputs": [],
   "source": [
    "tabla1_SD = 'tabla1_SD1_6m_PLV_BrdU488_GFAP555_SOX2647_25X (1).csv'\n",
    "tabla2_SD = 'tabla2_SD1_6m_PLV_BrdU488_GFAP555_SOX2647_25X (1).csv'"
   ]
  },
  {
   "cell_type": "code",
   "execution_count": 50,
   "id": "3c9aa38b",
   "metadata": {},
   "outputs": [
    {
     "data": {
      "text/html": [
       "<div>\n",
       "<style scoped>\n",
       "    .dataframe tbody tr th:only-of-type {\n",
       "        vertical-align: middle;\n",
       "    }\n",
       "\n",
       "    .dataframe tbody tr th {\n",
       "        vertical-align: top;\n",
       "    }\n",
       "\n",
       "    .dataframe thead th {\n",
       "        text-align: right;\n",
       "    }\n",
       "</style>\n",
       "<table border=\"1\" class=\"dataframe\">\n",
       "  <thead>\n",
       "    <tr style=\"text-align: right;\">\n",
       "      <th></th>\n",
       "      <th>Marcaje</th>\n",
       "      <th>Etiqueta</th>\n",
       "      <th>Conteo</th>\n",
       "    </tr>\n",
       "  </thead>\n",
       "  <tbody>\n",
       "    <tr>\n",
       "      <th>0</th>\n",
       "      <td>Verde</td>\n",
       "      <td>Negativo</td>\n",
       "      <td>141</td>\n",
       "    </tr>\n",
       "    <tr>\n",
       "      <th>1</th>\n",
       "      <td>Verde</td>\n",
       "      <td>Positivo</td>\n",
       "      <td>76</td>\n",
       "    </tr>\n",
       "    <tr>\n",
       "      <th>2</th>\n",
       "      <td>Verde</td>\n",
       "      <td>Duda</td>\n",
       "      <td>16</td>\n",
       "    </tr>\n",
       "    <tr>\n",
       "      <th>3</th>\n",
       "      <td>Rojo</td>\n",
       "      <td>Negativo</td>\n",
       "      <td>153</td>\n",
       "    </tr>\n",
       "    <tr>\n",
       "      <th>4</th>\n",
       "      <td>Rojo</td>\n",
       "      <td>Positivo</td>\n",
       "      <td>64</td>\n",
       "    </tr>\n",
       "    <tr>\n",
       "      <th>5</th>\n",
       "      <td>Rojo</td>\n",
       "      <td>Duda</td>\n",
       "      <td>16</td>\n",
       "    </tr>\n",
       "    <tr>\n",
       "      <th>6</th>\n",
       "      <td>IR</td>\n",
       "      <td>Negativo</td>\n",
       "      <td>128</td>\n",
       "    </tr>\n",
       "    <tr>\n",
       "      <th>7</th>\n",
       "      <td>IR</td>\n",
       "      <td>Positivo</td>\n",
       "      <td>89</td>\n",
       "    </tr>\n",
       "    <tr>\n",
       "      <th>8</th>\n",
       "      <td>IR</td>\n",
       "      <td>Duda</td>\n",
       "      <td>16</td>\n",
       "    </tr>\n",
       "  </tbody>\n",
       "</table>\n",
       "</div>"
      ],
      "text/plain": [
       "  Marcaje  Etiqueta  Conteo\n",
       "0   Verde  Negativo     141\n",
       "1   Verde  Positivo      76\n",
       "2   Verde      Duda      16\n",
       "3    Rojo  Negativo     153\n",
       "4    Rojo  Positivo      64\n",
       "5    Rojo      Duda      16\n",
       "6      IR  Negativo     128\n",
       "7      IR  Positivo      89\n",
       "8      IR      Duda      16"
      ]
     },
     "execution_count": 50,
     "metadata": {},
     "output_type": "execute_result"
    }
   ],
   "source": [
    "df = pd.read_csv(tabla1_SD)\n",
    "df"
   ]
  },
  {
   "cell_type": "code",
   "execution_count": 51,
   "id": "c977040a",
   "metadata": {},
   "outputs": [
    {
     "data": {
      "text/html": [
       "<div>\n",
       "<style scoped>\n",
       "    .dataframe tbody tr th:only-of-type {\n",
       "        vertical-align: middle;\n",
       "    }\n",
       "\n",
       "    .dataframe tbody tr th {\n",
       "        vertical-align: top;\n",
       "    }\n",
       "\n",
       "    .dataframe thead th {\n",
       "        text-align: right;\n",
       "    }\n",
       "</style>\n",
       "<table border=\"1\" class=\"dataframe\">\n",
       "  <thead>\n",
       "    <tr style=\"text-align: right;\">\n",
       "      <th></th>\n",
       "      <th>Marcaje</th>\n",
       "      <th>Conteo</th>\n",
       "    </tr>\n",
       "  </thead>\n",
       "  <tbody>\n",
       "    <tr>\n",
       "      <th>0</th>\n",
       "      <td>Total</td>\n",
       "      <td>233</td>\n",
       "    </tr>\n",
       "  </tbody>\n",
       "</table>\n",
       "</div>"
      ],
      "text/plain": [
       "  Marcaje  Conteo\n",
       "0   Total     233"
      ]
     },
     "execution_count": 51,
     "metadata": {},
     "output_type": "execute_result"
    }
   ],
   "source": [
    "df_aux = pd.DataFrame({\n",
    " 'Marcaje' : ['Total'],\n",
    "    'Conteo' : df['Conteo'][0] + df['Conteo'][1] + df['Conteo'][2]\n",
    "})\n",
    "df_aux"
   ]
  },
  {
   "cell_type": "code",
   "execution_count": 52,
   "id": "44cdd68f",
   "metadata": {},
   "outputs": [],
   "source": [
    "grafico_marcajes_G_IR_base = alt.Chart(df_aux).encode(\n",
    "    x = alt.X('Marcaje', title = None),\n",
    "    y = alt.Y('Conteo')\n",
    ")\n",
    "grafico_marcajes_G_IR_base.mark_bar(opacity = 0.6)\n",
    "\n",
    "#.properties(width = 300, height = 400)\n",
    "#grafico_marcajes_G_IR_base\n",
    "\n",
    "grafico_compuesto3 = alt.layer(\n",
    "    grafico_marcajes_G_IR_base.mark_text(dy=-5, color = 'black').encode(text='Conteo'),\n",
    "    grafico_marcajes_G_IR_base.mark_bar(opacity = 0.6).encode(color = alt.Color('Marcaje', scale=alt.Scale(\n",
    "            range=['black'])))\n",
    ").properties(width = 50, height = 300\n",
    ")"
   ]
  },
  {
   "cell_type": "code",
   "execution_count": 53,
   "id": "ba78f29c",
   "metadata": {
    "colab": {
     "base_uri": "https://localhost:8080/",
     "height": 448
    },
    "id": "ba78f29c",
    "outputId": "ea15b163-a44e-4022-a9eb-6df3b0bdb0cf"
   },
   "outputs": [],
   "source": [
    "grafico_base = alt.Chart(df).encode(\n",
    "    x = alt.X('Etiqueta',  sort = \"-y\", title = None),\n",
    "    y = alt.Y('Conteo'),\n",
    "    color = alt.Color('Etiqueta', scale=alt.Scale(\n",
    "            range=['red', 'blue', 'green', 'black']))\n",
    ")\n",
    "\n",
    "grafico_compuesto = alt.layer(\n",
    "  grafico_base.mark_bar(opacity = 0.6),\n",
    "  grafico_base.mark_text(dy=-5).encode(text='Conteo')\n",
    ").properties(width = 200, height = 300\n",
    ").facet(column='Marcaje')\n",
    "\n",
    "(grafico_compuesto | grafico_compuesto3).properties(title = \"Conteo de nucleos en SD1_6m_PLV_BrdU488_GFAP555_SOX2647_25X (1)\"\n",
    ").save('Grafico1_' + tabla1_SD[:-4] + '.html')"
   ]
  },
  {
   "cell_type": "code",
   "execution_count": 54,
   "id": "c31107ff",
   "metadata": {},
   "outputs": [
    {
     "data": {
      "text/html": [
       "<div>\n",
       "<style scoped>\n",
       "    .dataframe tbody tr th:only-of-type {\n",
       "        vertical-align: middle;\n",
       "    }\n",
       "\n",
       "    .dataframe tbody tr th {\n",
       "        vertical-align: top;\n",
       "    }\n",
       "\n",
       "    .dataframe thead th {\n",
       "        text-align: right;\n",
       "    }\n",
       "</style>\n",
       "<table border=\"1\" class=\"dataframe\">\n",
       "  <thead>\n",
       "    <tr style=\"text-align: right;\">\n",
       "      <th></th>\n",
       "      <th>Marcaje</th>\n",
       "      <th>Conteo</th>\n",
       "    </tr>\n",
       "  </thead>\n",
       "  <tbody>\n",
       "    <tr>\n",
       "      <th>0</th>\n",
       "      <td>Total</td>\n",
       "      <td>233</td>\n",
       "    </tr>\n",
       "    <tr>\n",
       "      <th>1</th>\n",
       "      <td>Verde+/IR+</td>\n",
       "      <td>71</td>\n",
       "    </tr>\n",
       "    <tr>\n",
       "      <th>2</th>\n",
       "      <td>Verde-/IR+</td>\n",
       "      <td>18</td>\n",
       "    </tr>\n",
       "    <tr>\n",
       "      <th>3</th>\n",
       "      <td>Verde-/IR-</td>\n",
       "      <td>123</td>\n",
       "    </tr>\n",
       "    <tr>\n",
       "      <th>4</th>\n",
       "      <td>Verde+/IR-</td>\n",
       "      <td>5</td>\n",
       "    </tr>\n",
       "    <tr>\n",
       "      <th>5</th>\n",
       "      <td>Warning</td>\n",
       "      <td>16</td>\n",
       "    </tr>\n",
       "  </tbody>\n",
       "</table>\n",
       "</div>"
      ],
      "text/plain": [
       "      Marcaje  Conteo\n",
       "0       Total     233\n",
       "1  Verde+/IR+      71\n",
       "2  Verde-/IR+      18\n",
       "3  Verde-/IR-     123\n",
       "4  Verde+/IR-       5\n",
       "5     Warning      16"
      ]
     },
     "execution_count": 54,
     "metadata": {},
     "output_type": "execute_result"
    }
   ],
   "source": [
    "df2 = pd.read_csv(tabla2_SD)\n",
    "df2"
   ]
  },
  {
   "cell_type": "code",
   "execution_count": 64,
   "id": "4dd41da1",
   "metadata": {},
   "outputs": [],
   "source": [
    "grafico_marcajes_G_IR_base = alt.Chart(df2).encode(\n",
    "    x = alt.X('Marcaje', title = None),\n",
    "    y = alt.Y('Conteo')\n",
    ")\n",
    "grafico_marcajes_G_IR_base.mark_bar(opacity = 0.6)\n",
    "\n",
    "#.properties(width = 300, height = 400)\n",
    "#grafico_marcajes_G_IR_base\n",
    "\n",
    "grafico_compuesto2 = alt.layer(\n",
    "    grafico_marcajes_G_IR_base.mark_text(dy=-5, color = 'black').encode(text='Conteo'),\n",
    "    grafico_marcajes_G_IR_base.mark_bar(opacity = 0.6).encode(color = alt.Color('Marcaje', scale=alt.Scale(\n",
    "            range=['black', 'yellow', 'green', 'gray', 'blue', 'red'])))\n",
    ").properties(width = 500, height = 400, title = \"SD1_6m_PLV_BrdU488_GFAP555_SOX2647_25X (1)\"\n",
    ")\n",
    "grafico_compuesto2.save('Grafico2_' + tabla2_SD[:-4] + '.html')"
   ]
  },
  {
   "cell_type": "markdown",
   "id": "28ed519a",
   "metadata": {},
   "source": [
    "# Taiep"
   ]
  },
  {
   "cell_type": "code",
   "execution_count": 56,
   "id": "6fa54435",
   "metadata": {},
   "outputs": [],
   "source": [
    "tabla1_Taiep = 'tabla1_Taiep2_6m_PLV_BrdU488_GFAP555_SOX2647_25X (1).csv'\n",
    "tabla2_Taiep = 'tabla2_Taiep2_6m_PLV_BrdU488_GFAP555_SOX2647_25X (1).csv'"
   ]
  },
  {
   "cell_type": "code",
   "execution_count": 57,
   "id": "3c744f37",
   "metadata": {},
   "outputs": [
    {
     "data": {
      "text/html": [
       "<div>\n",
       "<style scoped>\n",
       "    .dataframe tbody tr th:only-of-type {\n",
       "        vertical-align: middle;\n",
       "    }\n",
       "\n",
       "    .dataframe tbody tr th {\n",
       "        vertical-align: top;\n",
       "    }\n",
       "\n",
       "    .dataframe thead th {\n",
       "        text-align: right;\n",
       "    }\n",
       "</style>\n",
       "<table border=\"1\" class=\"dataframe\">\n",
       "  <thead>\n",
       "    <tr style=\"text-align: right;\">\n",
       "      <th></th>\n",
       "      <th>Marcaje</th>\n",
       "      <th>Etiqueta</th>\n",
       "      <th>Conteo</th>\n",
       "    </tr>\n",
       "  </thead>\n",
       "  <tbody>\n",
       "    <tr>\n",
       "      <th>0</th>\n",
       "      <td>Verde</td>\n",
       "      <td>Negativo</td>\n",
       "      <td>94</td>\n",
       "    </tr>\n",
       "    <tr>\n",
       "      <th>1</th>\n",
       "      <td>Verde</td>\n",
       "      <td>Positivo</td>\n",
       "      <td>83</td>\n",
       "    </tr>\n",
       "    <tr>\n",
       "      <th>2</th>\n",
       "      <td>Verde</td>\n",
       "      <td>Duda</td>\n",
       "      <td>11</td>\n",
       "    </tr>\n",
       "    <tr>\n",
       "      <th>3</th>\n",
       "      <td>Rojo</td>\n",
       "      <td>Negativo</td>\n",
       "      <td>137</td>\n",
       "    </tr>\n",
       "    <tr>\n",
       "      <th>4</th>\n",
       "      <td>Rojo</td>\n",
       "      <td>Positivo</td>\n",
       "      <td>40</td>\n",
       "    </tr>\n",
       "    <tr>\n",
       "      <th>5</th>\n",
       "      <td>Rojo</td>\n",
       "      <td>Duda</td>\n",
       "      <td>11</td>\n",
       "    </tr>\n",
       "    <tr>\n",
       "      <th>6</th>\n",
       "      <td>IR</td>\n",
       "      <td>Negativo</td>\n",
       "      <td>85</td>\n",
       "    </tr>\n",
       "    <tr>\n",
       "      <th>7</th>\n",
       "      <td>IR</td>\n",
       "      <td>Positivo</td>\n",
       "      <td>92</td>\n",
       "    </tr>\n",
       "    <tr>\n",
       "      <th>8</th>\n",
       "      <td>IR</td>\n",
       "      <td>Duda</td>\n",
       "      <td>11</td>\n",
       "    </tr>\n",
       "  </tbody>\n",
       "</table>\n",
       "</div>"
      ],
      "text/plain": [
       "  Marcaje  Etiqueta  Conteo\n",
       "0   Verde  Negativo      94\n",
       "1   Verde  Positivo      83\n",
       "2   Verde      Duda      11\n",
       "3    Rojo  Negativo     137\n",
       "4    Rojo  Positivo      40\n",
       "5    Rojo      Duda      11\n",
       "6      IR  Negativo      85\n",
       "7      IR  Positivo      92\n",
       "8      IR      Duda      11"
      ]
     },
     "execution_count": 57,
     "metadata": {},
     "output_type": "execute_result"
    }
   ],
   "source": [
    "df = pd.read_csv(tabla1_Taiep)\n",
    "df"
   ]
  },
  {
   "cell_type": "code",
   "execution_count": 58,
   "id": "36df42c9",
   "metadata": {},
   "outputs": [
    {
     "data": {
      "text/html": [
       "<div>\n",
       "<style scoped>\n",
       "    .dataframe tbody tr th:only-of-type {\n",
       "        vertical-align: middle;\n",
       "    }\n",
       "\n",
       "    .dataframe tbody tr th {\n",
       "        vertical-align: top;\n",
       "    }\n",
       "\n",
       "    .dataframe thead th {\n",
       "        text-align: right;\n",
       "    }\n",
       "</style>\n",
       "<table border=\"1\" class=\"dataframe\">\n",
       "  <thead>\n",
       "    <tr style=\"text-align: right;\">\n",
       "      <th></th>\n",
       "      <th>Marcaje</th>\n",
       "      <th>Conteo</th>\n",
       "    </tr>\n",
       "  </thead>\n",
       "  <tbody>\n",
       "    <tr>\n",
       "      <th>0</th>\n",
       "      <td>Total</td>\n",
       "      <td>188</td>\n",
       "    </tr>\n",
       "  </tbody>\n",
       "</table>\n",
       "</div>"
      ],
      "text/plain": [
       "  Marcaje  Conteo\n",
       "0   Total     188"
      ]
     },
     "execution_count": 58,
     "metadata": {},
     "output_type": "execute_result"
    }
   ],
   "source": [
    "df_aux = pd.DataFrame({\n",
    " 'Marcaje' : ['Total'],\n",
    "    'Conteo' : df['Conteo'][0] + df['Conteo'][1] + df['Conteo'][2]\n",
    "})\n",
    "df_aux"
   ]
  },
  {
   "cell_type": "code",
   "execution_count": 59,
   "id": "61e49dfe",
   "metadata": {},
   "outputs": [],
   "source": [
    "grafico_marcajes_G_IR_base = alt.Chart(df_aux).encode(\n",
    "    x = alt.X('Marcaje', title = None),\n",
    "    y = alt.Y('Conteo')\n",
    ")\n",
    "grafico_marcajes_G_IR_base.mark_bar(opacity = 0.6)\n",
    "\n",
    "#.properties(width = 300, height = 400)\n",
    "#grafico_marcajes_G_IR_base\n",
    "\n",
    "grafico_compuesto3 = alt.layer(\n",
    "    grafico_marcajes_G_IR_base.mark_text(dy=-5, color = 'black').encode(text='Conteo'),\n",
    "    grafico_marcajes_G_IR_base.mark_bar(opacity = 0.6).encode(color = alt.Color('Marcaje', scale=alt.Scale(\n",
    "            range=['black'])))\n",
    ").properties(width = 50, height = 300\n",
    ")"
   ]
  },
  {
   "cell_type": "code",
   "execution_count": 60,
   "id": "f78bbb94",
   "metadata": {},
   "outputs": [],
   "source": [
    "grafico_base = alt.Chart(df).encode(\n",
    "    x = alt.X('Etiqueta',  sort = \"-y\", title = None),\n",
    "    y = alt.Y('Conteo'),\n",
    "    color = alt.Color('Etiqueta', scale=alt.Scale(\n",
    "            range=['red', 'blue', 'green', 'black']))\n",
    ")\n",
    "\n",
    "grafico_compuesto = alt.layer(\n",
    "  grafico_base.mark_bar(opacity = 0.6),\n",
    "  grafico_base.mark_text(dy=-5).encode(text='Conteo')\n",
    ").properties(width = 200, height = 300\n",
    ").facet(column='Marcaje')\n",
    "\n",
    "(grafico_compuesto | grafico_compuesto3).properties(title = \"Conteo de nucleos en Taiep2_6m_PLV_BrdU488_GFAP555_SOX2647_25X (1)\"\n",
    ").save('Grafico1_' + tabla1_Taiep[:-4] + '.html')"
   ]
  },
  {
   "cell_type": "code",
   "execution_count": 61,
   "id": "007543bc",
   "metadata": {},
   "outputs": [
    {
     "data": {
      "text/html": [
       "<div>\n",
       "<style scoped>\n",
       "    .dataframe tbody tr th:only-of-type {\n",
       "        vertical-align: middle;\n",
       "    }\n",
       "\n",
       "    .dataframe tbody tr th {\n",
       "        vertical-align: top;\n",
       "    }\n",
       "\n",
       "    .dataframe thead th {\n",
       "        text-align: right;\n",
       "    }\n",
       "</style>\n",
       "<table border=\"1\" class=\"dataframe\">\n",
       "  <thead>\n",
       "    <tr style=\"text-align: right;\">\n",
       "      <th></th>\n",
       "      <th>Marcaje</th>\n",
       "      <th>Conteo</th>\n",
       "    </tr>\n",
       "  </thead>\n",
       "  <tbody>\n",
       "    <tr>\n",
       "      <th>0</th>\n",
       "      <td>Total</td>\n",
       "      <td>188</td>\n",
       "    </tr>\n",
       "    <tr>\n",
       "      <th>1</th>\n",
       "      <td>Verde+/IR+</td>\n",
       "      <td>81</td>\n",
       "    </tr>\n",
       "    <tr>\n",
       "      <th>2</th>\n",
       "      <td>Verde-/IR+</td>\n",
       "      <td>11</td>\n",
       "    </tr>\n",
       "    <tr>\n",
       "      <th>3</th>\n",
       "      <td>Verde-/IR-</td>\n",
       "      <td>83</td>\n",
       "    </tr>\n",
       "    <tr>\n",
       "      <th>4</th>\n",
       "      <td>Verde+/IR-</td>\n",
       "      <td>2</td>\n",
       "    </tr>\n",
       "    <tr>\n",
       "      <th>5</th>\n",
       "      <td>Warning</td>\n",
       "      <td>11</td>\n",
       "    </tr>\n",
       "  </tbody>\n",
       "</table>\n",
       "</div>"
      ],
      "text/plain": [
       "      Marcaje  Conteo\n",
       "0       Total     188\n",
       "1  Verde+/IR+      81\n",
       "2  Verde-/IR+      11\n",
       "3  Verde-/IR-      83\n",
       "4  Verde+/IR-       2\n",
       "5     Warning      11"
      ]
     },
     "execution_count": 61,
     "metadata": {},
     "output_type": "execute_result"
    }
   ],
   "source": [
    "df2 = pd.read_csv(tabla2_Taiep)\n",
    "df2"
   ]
  },
  {
   "cell_type": "code",
   "execution_count": 63,
   "id": "396387a7",
   "metadata": {},
   "outputs": [],
   "source": [
    "grafico_marcajes_G_IR_base = alt.Chart(df2).encode(\n",
    "    x = alt.X('Marcaje', title = None),\n",
    "    y = alt.Y('Conteo')\n",
    ")\n",
    "grafico_marcajes_G_IR_base.mark_bar(opacity = 0.6)\n",
    "\n",
    "#.properties(width = 300, height = 400)\n",
    "#grafico_marcajes_G_IR_base\n",
    "\n",
    "grafico_compuesto2 = alt.layer(\n",
    "    grafico_marcajes_G_IR_base.mark_text(dy=-5, color = 'black').encode(text='Conteo'),\n",
    "    grafico_marcajes_G_IR_base.mark_bar(opacity = 0.6).encode(color = alt.Color('Marcaje', scale=alt.Scale(\n",
    "            range=['black', 'yellow', 'green', 'gray', 'blue', 'red'])))\n",
    ").properties(width = 500, height = 400, title = \"Taiep2_6m_PLV_BrdU488_GFAP555_SOX2647_25X (1)\"\n",
    ")\n",
    "grafico_compuesto2.save('Grafico2_' + tabla2_Taiep[:-4] + '.html')"
   ]
  }
 ],
 "metadata": {
  "colab": {
   "name": "SD.ipynb",
   "provenance": []
  },
  "kernelspec": {
   "display_name": "Python 3",
   "language": "python",
   "name": "python3"
  },
  "language_info": {
   "codemirror_mode": {
    "name": "ipython",
    "version": 3
   },
   "file_extension": ".py",
   "mimetype": "text/x-python",
   "name": "python",
   "nbconvert_exporter": "python",
   "pygments_lexer": "ipython3",
   "version": "3.8.8"
  }
 },
 "nbformat": 4,
 "nbformat_minor": 5
}
