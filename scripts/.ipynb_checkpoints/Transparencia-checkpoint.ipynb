{
 "cells": [
  {
   "cell_type": "code",
   "execution_count": 2,
   "id": "291b47ef",
   "metadata": {},
   "outputs": [],
   "source": [
    "from PIL import Image\n",
    "from ipywidgets import interact"
   ]
  },
  {
   "cell_type": "code",
   "execution_count": 13,
   "id": "f12160c2",
   "metadata": {},
   "outputs": [],
   "source": [
    "# SD"
   ]
  },
  {
   "cell_type": "code",
   "execution_count": 9,
   "id": "505592a8",
   "metadata": {},
   "outputs": [],
   "source": [
    "image1 = Image.open(\"./Img1.jpg\")\n",
    "image2 = Image.open(\"./Img2.jpg\")\n",
    "image1 = image1.convert(\"RGBA\")\n",
    "image2 = image2.convert(\"RGBA\")"
   ]
  },
  {
   "cell_type": "code",
   "execution_count": 10,
   "id": "2dd053b1",
   "metadata": {},
   "outputs": [
    {
     "data": {
      "application/vnd.jupyter.widget-view+json": {
       "model_id": "2a9537faa4d740b596a067b9e98c6f52",
       "version_major": 2,
       "version_minor": 0
      },
      "text/plain": [
       "interactive(children=(FloatSlider(value=0.0, description='x', max=1.0), Output()), _dom_classes=('widget-inter…"
      ]
     },
     "metadata": {},
     "output_type": "display_data"
    }
   ],
   "source": [
    "@interact(x=(0, 1, .1))\n",
    "def transparenca(x):\n",
    "    alphaBlended = Image.blend(image1, image2, alpha=x)\n",
    "    display(alphaBlended)"
   ]
  },
  {
   "cell_type": "code",
   "execution_count": 12,
   "id": "afbfc751",
   "metadata": {},
   "outputs": [],
   "source": [
    "#Taiep"
   ]
  },
  {
   "cell_type": "code",
   "execution_count": 11,
   "id": "19be743a",
   "metadata": {},
   "outputs": [],
   "source": [
    "image3 = Image.open(\"./Img3.jpg\")\n",
    "image4 = Image.open(\"./Img4.jpg\")\n",
    "image3 = image3.convert(\"RGBA\")\n",
    "image4 = image4.convert(\"RGBA\")"
   ]
  },
  {
   "cell_type": "code",
   "execution_count": 14,
   "id": "42b484a7",
   "metadata": {},
   "outputs": [
    {
     "data": {
      "application/vnd.jupyter.widget-view+json": {
       "model_id": "9a2e3cf9e30b432baf2887b87bb77dd6",
       "version_major": 2,
       "version_minor": 0
      },
      "text/plain": [
       "interactive(children=(FloatSlider(value=0.0, description='x', max=1.0), Output()), _dom_classes=('widget-inter…"
      ]
     },
     "metadata": {},
     "output_type": "display_data"
    }
   ],
   "source": [
    "@interact(x=(0, 1, .1))\n",
    "def transparenca(x):\n",
    "    alphaBlended = Image.blend(image3, image4, alpha=x)\n",
    "    display(alphaBlended)"
   ]
  }
 ],
 "metadata": {
  "kernelspec": {
   "display_name": "Python 3",
   "language": "python",
   "name": "python3"
  },
  "language_info": {
   "codemirror_mode": {
    "name": "ipython",
    "version": 3
   },
   "file_extension": ".py",
   "mimetype": "text/x-python",
   "name": "python",
   "nbconvert_exporter": "python",
   "pygments_lexer": "ipython3",
   "version": "3.8.8"
  }
 },
 "nbformat": 4,
 "nbformat_minor": 5
}
